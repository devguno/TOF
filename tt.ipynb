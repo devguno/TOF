{
 "cells": [
  {
   "cell_type": "code",
   "execution_count": 5,
   "metadata": {},
   "outputs": [
    {
     "data": {
      "text/html": [
       "<div>\n",
       "<style scoped>\n",
       "    .dataframe tbody tr th:only-of-type {\n",
       "        vertical-align: middle;\n",
       "    }\n",
       "\n",
       "    .dataframe tbody tr th {\n",
       "        vertical-align: top;\n",
       "    }\n",
       "\n",
       "    .dataframe thead th {\n",
       "        text-align: right;\n",
       "    }\n",
       "</style>\n",
       "<table border=\"1\" class=\"dataframe\">\n",
       "  <thead>\n",
       "    <tr style=\"text-align: right;\">\n",
       "      <th></th>\n",
       "      <th>50% 이상</th>\n",
       "      <th>60% 이상</th>\n",
       "      <th>70% 이상</th>\n",
       "      <th>80% 이상</th>\n",
       "    </tr>\n",
       "  </thead>\n",
       "  <tbody>\n",
       "    <tr>\n",
       "      <th>0</th>\n",
       "      <td>[0, 886, 887, 888, 890, 1107, 1109, 1110]</td>\n",
       "      <td>[0, 886, 887, 888, 890]</td>\n",
       "      <td>[0, 886, 887, 888, 890]</td>\n",
       "      <td>[]</td>\n",
       "    </tr>\n",
       "  </tbody>\n",
       "</table>\n",
       "</div>"
      ],
      "text/plain": [
       "                                      50% 이상                   60% 이상  \\\n",
       "0  [0, 886, 887, 888, 890, 1107, 1109, 1110]  [0, 886, 887, 888, 890]   \n",
       "\n",
       "                    70% 이상 80% 이상  \n",
       "0  [0, 886, 887, 888, 890]     []  "
      ]
     },
     "execution_count": 5,
     "metadata": {},
     "output_type": "execute_result"
    }
   ],
   "source": [
    "import pandas as pd\n",
    "\n",
    "# CSV 파일 읽기\n",
    "df = pd.read_csv('MRI_Regex.csv', encoding='ISO-8859-1')\n",
    "\n",
    "# 각 행의 결측치 비율 계산\n",
    "missing_ratio = df.isnull().mean(axis=1)\n",
    "\n",
    "# 결측치 비율이 60% 이상, 70% 이상, 80% 이상, 90% 이상인 행의 인덱스 저장\n",
    "missing_60 = df[missing_ratio >= 0.50].index.tolist()\n",
    "missing_70 = df[missing_ratio >= 0.60].index.tolist()\n",
    "missing_80 = df[missing_ratio >= 0.70].index.tolist()\n",
    "missing_90 = df[missing_ratio >= 0.80].index.tolist()\n",
    "\n",
    "# 결과를 데이터프레임으로 정리\n",
    "result_df = pd.DataFrame({\n",
    "    '50% 이상': [missing_60],\n",
    "    '60% 이상': [missing_70],\n",
    "    '70% 이상': [missing_80],\n",
    "    '80% 이상': [missing_90]\n",
    "})\n",
    "\n",
    "result_df\n"
   ]
  },
  {
   "cell_type": "code",
   "execution_count": null,
   "metadata": {},
   "outputs": [],
   "source": []
  }
 ],
 "metadata": {
  "kernelspec": {
   "display_name": "Python 3",
   "language": "python",
   "name": "python3"
  },
  "language_info": {
   "codemirror_mode": {
    "name": "ipython",
    "version": 3
   },
   "file_extension": ".py",
   "mimetype": "text/x-python",
   "name": "python",
   "nbconvert_exporter": "python",
   "pygments_lexer": "ipython3",
   "version": "3.10.11"
  }
 },
 "nbformat": 4,
 "nbformat_minor": 2
}
