{
 "cells": [
  {
   "cell_type": "code",
   "execution_count": 5,
   "metadata": {},
   "outputs": [
    {
     "data": {
      "text/html": [
       "<div>\n",
       "<style scoped>\n",
       "    .dataframe tbody tr th:only-of-type {\n",
       "        vertical-align: middle;\n",
       "    }\n",
       "\n",
       "    .dataframe tbody tr th {\n",
       "        vertical-align: top;\n",
       "    }\n",
       "\n",
       "    .dataframe thead th {\n",
       "        text-align: right;\n",
       "    }\n",
       "</style>\n",
       "<table border=\"1\" class=\"dataframe\">\n",
       "  <thead>\n",
       "    <tr style=\"text-align: right;\">\n",
       "      <th></th>\n",
       "      <th>50% 이상</th>\n",
       "      <th>60% 이상</th>\n",
       "      <th>70% 이상</th>\n",
       "      <th>80% 이상</th>\n",
       "    </tr>\n",
       "  </thead>\n",
       "  <tbody>\n",
       "    <tr>\n",
       "      <th>0</th>\n",
       "      <td>[0, 886, 887, 888, 890, 1107, 1109, 1110]</td>\n",
       "      <td>[0, 886, 887, 888, 890]</td>\n",
       "      <td>[0, 886, 887, 888, 890]</td>\n",
       "      <td>[]</td>\n",
       "    </tr>\n",
       "  </tbody>\n",
       "</table>\n",
       "</div>"
      ],
      "text/plain": [
       "                                      50% 이상                   60% 이상  \\\n",
       "0  [0, 886, 887, 888, 890, 1107, 1109, 1110]  [0, 886, 887, 888, 890]   \n",
       "\n",
       "                    70% 이상 80% 이상  \n",
       "0  [0, 886, 887, 888, 890]     []  "
      ]
     },
     "execution_count": 5,
     "metadata": {},
     "output_type": "execute_result"
    }
   ],
   "source": [
    "import pandas as pd\n",
    "\n",
    "# CSV 파일 읽기\n",
    "df = pd.read_csv('MRI_Regex.csv', encoding='ISO-8859-1')\n",
    "\n",
    "# 각 행의 결측치 비율 계산\n",
    "missing_ratio = df.isnull().mean(axis=1)\n",
    "\n",
    "# 결측치 비율이 60% 이상, 70% 이상, 80% 이상, 90% 이상인 행의 인덱스 저장\n",
    "missing_60 = df[missing_ratio >= 0.50].index.tolist()\n",
    "missing_70 = df[missing_ratio >= 0.60].index.tolist()\n",
    "missing_80 = df[missing_ratio >= 0.70].index.tolist()\n",
    "missing_90 = df[missing_ratio >= 0.80].index.tolist()\n",
    "\n",
    "# 결과를 데이터프레임으로 정리\n",
    "result_df = pd.DataFrame({\n",
    "    '50% 이상': [missing_60],\n",
    "    '60% 이상': [missing_70],\n",
    "    '70% 이상': [missing_80],\n",
    "    '80% 이상': [missing_90]\n",
    "})\n",
    "\n",
    "result_df\n"
   ]
  },
  {
   "cell_type": "code",
   "execution_count": 4,
   "metadata": {},
   "outputs": [
    {
     "name": "stdout",
     "output_type": "stream",
     "text": [
      "Rows where LV EDV(Value) and RV EDV(Value) are the same: [7, 10, 38, 131, 154, 303, 404, 422, 456, 468, 481, 505, 508, 509, 510, 547, 554, 564, 584, 608, 614, 617, 618, 620, 621, 623, 624, 628, 632, 633, 639, 642, 646, 647, 648, 649, 650, 652, 653, 655, 666, 667, 673, 679, 680, 704, 706, 711, 736, 764, 766, 768, 769, 770, 771, 772, 775, 776, 869, 871, 894, 959, 974, 976, 984, 985, 996, 998, 1008, 1043, 1049, 1081, 1090, 1092, 1093, 1096, 1097, 1098, 1102, 1106, 1107, 1110, 1139, 1140, 1153, 1154, 1155, 1161, 1178, 1195, 1198, 1206, 1249, 1256, 1274, 1275, 1282, 1286, 1287, 1288, 1291, 1292, 1293, 1294, 1295, 1297, 1300, 1301, 1302, 1304, 1308, 1312, 1327, 1328, 1337, 1454, 1458, 1483, 1520]\n",
      "Number of rows where LV EDV(Value) and RV EDV(Value) are the same: 119\n"
     ]
    }
   ],
   "source": [
    "import pandas as pd\n",
    "\n",
    "# Load the CSV file into a DataFrame\n",
    "df = pd.read_csv('cardiac_mri.csv', encoding='ISO-8859-1')\n",
    "\n",
    "# Compare the LV EDV(Value) and RV EDV(Value) columns\n",
    "matching_rows = df[df['LV EDV(Value)'] == df['RV EDV(Value)']]\n",
    "\n",
    "# Output the indices of the matching rows\n",
    "matching_row_indices = matching_rows.index.tolist()\n",
    "\n",
    "# Print the indices and the count of matching rows\n",
    "print(\"Rows where LV EDV(Value) and RV EDV(Value) are the same:\", matching_row_indices)\n",
    "print(\"Number of rows where LV EDV(Value) and RV EDV(Value) are the same:\", len(matching_row_indices))\n"
   ]
  }
 ],
 "metadata": {
  "kernelspec": {
   "display_name": "Python 3",
   "language": "python",
   "name": "python3"
  },
  "language_info": {
   "codemirror_mode": {
    "name": "ipython",
    "version": 3
   },
   "file_extension": ".py",
   "mimetype": "text/x-python",
   "name": "python",
   "nbconvert_exporter": "python",
   "pygments_lexer": "ipython3",
   "version": "3.10.11"
  }
 },
 "nbformat": 4,
 "nbformat_minor": 2
}
