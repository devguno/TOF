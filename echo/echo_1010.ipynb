{
 "cells": [
  {
   "cell_type": "code",
   "execution_count": 7,
   "metadata": {},
   "outputs": [
    {
     "name": "stdout",
     "output_type": "stream",
     "text": [
      "분석이 완료되었습니다. 결과는 'tof_mri_analyzed.csv' 파일에 저장되었습니다.\n"
     ]
    }
   ],
   "source": [
    "import pandas as pd\n",
    "import re\n",
    "\n",
    "def extract_values(text):\n",
    "    patterns = {\n",
    "        'LV EF': r'LV.*?Ejection Fraction\\s*:\\s*([\\d.]+)\\s*%',\n",
    "        'LV EDV(Value)': r'LV.*?End-Diastolic Volume\\s*:\\s*([\\d.]+)',\n",
    "        'LV EDV(Index)': r'LV.*?End-Diastolic Volume\\s*:\\s*[\\d.]+\\s*\\(([\\d.]+)\\)',\n",
    "        'LV ESV(Value)': r'LV.*?End-Systolic Volume\\s*:\\s*([\\d.]+)',\n",
    "        'LV ESV(Index)': r'LV.*?End-Systolic Volume\\s*:\\s*[\\d.]+\\s*\\(([\\d.]+)\\)',\n",
    "        'LV SV(Value)': r'LV.*?Stroke Volume\\s*:\\s*([\\d.]+)',\n",
    "        'LV SV(Index)': r'LV.*?Stroke Volume\\s*:\\s*[\\d.]+\\s*\\(([\\d.]+)\\)',\n",
    "        'LV CO(Value)': r'LV.*?Cardiac Output\\s*:\\s*([\\d.]+)',\n",
    "        'LV CO(Index)': r'LV.*?Cardiac Output\\s*:\\s*[\\d.]+\\s*\\(([\\d.]+)\\)',\n",
    "        'LV MM(Value)': r'LV.*?Average Myocardial Mass\\s*:\\s*([\\d.]+)',\n",
    "        'LV MM(Index)': r'LV.*?Average Myocardial Mass\\s*:\\s*[\\d.]+\\s*\\(([\\d.]+)\\)',\n",
    "        'RV EF': r'RV.*?Ejection Fraction\\s*:\\s*([\\d.]+)\\s*%',\n",
    "        'RV EDV(Value)': r'RV.*?End-Diastolic Volume\\s*:\\s*([\\d.]+)',\n",
    "        'RV EDV(Index)': r'RV.*?End-Diastolic Volume\\s*:\\s*[\\d.]+\\s*\\(([\\d.]+)\\)',\n",
    "        'RV ESV(Value)': r'RV.*?End-Systolic Volume\\s*:\\s*([\\d.]+)',\n",
    "        'RV ESV(Index)': r'RV.*?End-Systolic Volume\\s*:\\s*[\\d.]+\\s*\\(([\\d.]+)\\)',\n",
    "        'RV SV(Value)': r'RV.*?Stroke Volume\\s*:\\s*([\\d.]+)',\n",
    "        'RV SV(Index)': r'RV.*?Stroke Volume\\s*:\\s*[\\d.]+\\s*\\(([\\d.]+)\\)',\n",
    "        'RV CO(Value)': r'RV.*?Cardiac Output\\s*:\\s*([\\d.]+)',\n",
    "        'RV CO(Index)': r'RV.*?Cardiac Output\\s*:\\s*[\\d.]+\\s*\\(([\\d.]+)\\)',\n",
    "        'RV MM(Value)': r'RV.*?Average Myocardial Mass\\s*:\\s*([\\d.]+)',\n",
    "        'RV MM(Index)': r'RV.*?Average Myocardial Mass\\s*:\\s*[\\d.]+\\s*\\(([\\d.]+)\\)'\n",
    "    }\n",
    "    \n",
    "    results = {}\n",
    "    for key, pattern in patterns.items():\n",
    "        match = re.search(pattern, text)\n",
    "        results[key] = match.group(1) if match else None\n",
    "    \n",
    "    return results\n",
    "\n",
    "# CSV 파일 읽기\n",
    "df = pd.read_csv('C:\\github\\TOF\\qq.csv')\n",
    "\n",
    "# 각 row에 대해 value_source_value 컬럼의 텍스트 분석\n",
    "extracted_data = df['value_source_value'].apply(extract_values)\n",
    "\n",
    "# 추출된 데이터를 데이터프레임으로 변환\n",
    "result_df = pd.DataFrame(extracted_data.tolist())\n",
    "\n",
    "# 원본 데이터프레임과 추출된 데이터 병합\n",
    "final_df = pd.concat([df, result_df], axis=1)\n",
    "\n",
    "# 결과를 새로운 CSV 파일로 저장\n",
    "final_df.to_csv('tof_mri_analyzed.csv', index=False)\n",
    "\n",
    "print(\"분석이 완료되었습니다. 결과는 'tof_mri_analyzed.csv' 파일에 저장되었습니다.\")"
   ]
  }
 ],
 "metadata": {
  "kernelspec": {
   "display_name": "Python 3",
   "language": "python",
   "name": "python3"
  },
  "language_info": {
   "codemirror_mode": {
    "name": "ipython",
    "version": 3
   },
   "file_extension": ".py",
   "mimetype": "text/x-python",
   "name": "python",
   "nbconvert_exporter": "python",
   "pygments_lexer": "ipython3",
   "version": "3.11.9"
  }
 },
 "nbformat": 4,
 "nbformat_minor": 2
}
