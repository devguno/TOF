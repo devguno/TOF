{
 "cells": [
  {
   "cell_type": "code",
   "execution_count": 1,
   "metadata": {},
   "outputs": [
    {
     "data": {
      "text/html": [
       "<div>\n",
       "<style scoped>\n",
       "    .dataframe tbody tr th:only-of-type {\n",
       "        vertical-align: middle;\n",
       "    }\n",
       "\n",
       "    .dataframe tbody tr th {\n",
       "        vertical-align: top;\n",
       "    }\n",
       "\n",
       "    .dataframe thead th {\n",
       "        text-align: right;\n",
       "    }\n",
       "</style>\n",
       "<table border=\"1\" class=\"dataframe\">\n",
       "  <thead>\n",
       "    <tr style=\"text-align: right;\">\n",
       "      <th></th>\n",
       "      <th>50% 이상</th>\n",
       "      <th>60% 이상</th>\n",
       "      <th>70% 이상</th>\n",
       "      <th>80% 이상</th>\n",
       "    </tr>\n",
       "  </thead>\n",
       "  <tbody>\n",
       "    <tr>\n",
       "      <th>0</th>\n",
       "      <td>[0, 886, 887, 888, 890, 1107, 1109, 1110]</td>\n",
       "      <td>[0, 886, 887, 888, 890]</td>\n",
       "      <td>[0, 886, 887, 888, 890]</td>\n",
       "      <td>[]</td>\n",
       "    </tr>\n",
       "  </tbody>\n",
       "</table>\n",
       "</div>"
      ],
      "text/plain": [
       "                                      50% 이상                   60% 이상  \\\n",
       "0  [0, 886, 887, 888, 890, 1107, 1109, 1110]  [0, 886, 887, 888, 890]   \n",
       "\n",
       "                    70% 이상 80% 이상  \n",
       "0  [0, 886, 887, 888, 890]     []  "
      ]
     },
     "execution_count": 1,
     "metadata": {},
     "output_type": "execute_result"
    }
   ],
   "source": [
    "import pandas as pd\n",
    "\n",
    "# CSV 파일 읽기\n",
    "df = pd.read_csv(r'C:\\Users\\iamgu\\Documents\\GitHub\\TOF\\mri\\MRI_Regex_with_BSA.csv', encoding='utf-8-sig')\n",
    "\n",
    "# 각 행의 결측치 비율 계산\n",
    "missing_ratio = df.isnull().mean(axis=1)\n",
    "\n",
    "# 결측치 비율이 60% 이상, 70% 이상, 80% 이상, 90% 이상인 행의 인덱스 저장\n",
    "missing_60 = df[missing_ratio >= 0.50].index.tolist()\n",
    "missing_70 = df[missing_ratio >= 0.60].index.tolist()\n",
    "missing_80 = df[missing_ratio >= 0.70].index.tolist()\n",
    "missing_90 = df[missing_ratio >= 0.80].index.tolist()\n",
    "\n",
    "# 결과를 데이터프레임으로 정리\n",
    "result_df = pd.DataFrame({\n",
    "    '50% 이상': [missing_60],\n",
    "    '60% 이상': [missing_70],\n",
    "    '70% 이상': [missing_80],\n",
    "    '80% 이상': [missing_90]\n",
    "})\n",
    "\n",
    "result_df\n"
   ]
  },
  {
   "cell_type": "code",
   "execution_count": 4,
   "metadata": {},
   "outputs": [
    {
     "name": "stdout",
     "output_type": "stream",
     "text": [
      "Rows where LV EDV(Value) and RV EDV(Value) are the same: [7, 10, 38, 131, 154, 303, 404, 456, 468, 509, 547, 564, 584, 608, 624, 628, 632, 642, 646, 647, 650, 667, 679, 680, 768, 770, 771, 869, 959, 974, 996, 1043, 1096, 1102, 1110, 1140, 1153, 1154, 1155, 1178, 1195, 1206, 1249, 1256, 1274, 1287, 1288, 1292, 1293, 1294, 1297, 1300, 1301, 1312, 1328, 1337, 1458, 1483]\n",
      "Number of rows where LV EDV(Value) and RV EDV(Value) are the same: 58\n"
     ]
    }
   ],
   "source": [
    "import pandas as pd\n",
    "\n",
    "# Load the CSV file into a DataFrame\n",
    "df = pd.read_csv(r'/Users/guno/github/TOF/mri/extracted_mri_data_all_rows.csv', encoding='utf-8-sig')\n",
    "\n",
    "# Compare the LV EDV(Value) and RV EDV(Value) columns\n",
    "matching_rows = df[df['LV EDV(Value)'] == df['RV EDV(Value)']]\n",
    "\n",
    "# Output the indices of the matching rows\n",
    "matching_row_indices = matching_rows.index.tolist()\n",
    "\n",
    "# Print the indices and the count of matching rows\n",
    "print(\"Rows where LV EDV(Value) and RV EDV(Value) are the same:\", matching_row_indices)\n",
    "print(\"Number of rows where LV EDV(Value) and RV EDV(Value) are the same:\", len(matching_row_indices))\n"
   ]
  },
  {
   "cell_type": "code",
   "execution_count": 1,
   "metadata": {},
   "outputs": [
    {
     "name": "stderr",
     "output_type": "stream",
     "text": [
      "/var/folders/td/yrbgv2bx6612pzs49201dk6r0000gn/T/ipykernel_4909/2553092236.py:17: SettingWithCopyWarning: \n",
      "A value is trying to be set on a copy of a slice from a DataFrame.\n",
      "Try using .loc[row_indexer,col_indexer] = value instead\n",
      "\n",
      "See the caveats in the documentation: https://pandas.pydata.org/pandas-docs/stable/user_guide/indexing.html#returning-a-view-versus-a-copy\n",
      "  df_filtered['calculated_BSA'] = df_filtered.apply(lambda row: calculate_bsa(row['value_for_weight'], row['value_for_height']), axis=1)\n",
      "/var/folders/td/yrbgv2bx6612pzs49201dk6r0000gn/T/ipykernel_4909/2553092236.py:20: SettingWithCopyWarning: \n",
      "A value is trying to be set on a copy of a slice from a DataFrame.\n",
      "Try using .loc[row_indexer,col_indexer] = value instead\n",
      "\n",
      "See the caveats in the documentation: https://pandas.pydata.org/pandas-docs/stable/user_guide/indexing.html#returning-a-view-versus-a-copy\n",
      "  df_filtered['BSA_difference'] = df_filtered['BSA'] - df_filtered['calculated_BSA']\n"
     ]
    },
    {
     "data": {
      "text/plain": [
       "count    1145.000000\n",
       "mean        0.065521\n",
       "std         0.192503\n",
       "min        -0.652585\n",
       "25%        -0.020827\n",
       "50%         0.009445\n",
       "75%         0.065286\n",
       "max         1.368966\n",
       "Name: BSA_difference, dtype: float64"
      ]
     },
     "execution_count": 1,
     "metadata": {},
     "output_type": "execute_result"
    }
   ],
   "source": [
    "import pandas as pd\n",
    "import numpy as np\n",
    "\n",
    "# CSV 파일 불러오기 (인코딩을 ISO-8859-1로 변경)\n",
    "df = pd.read_csv(r'/Users/guno/github/TOF/mri/extracted_mri_data_all_rows.csv', encoding='ISO-8859-1')\n",
    "\n",
    "# BSA 계산을 위한 Mosteller 공식 적용 함수 정의\n",
    "def calculate_bsa(weight, height):\n",
    "    if pd.notnull(weight) and pd.notnull(height):\n",
    "        return np.sqrt((weight * height) / 3600)\n",
    "    return None\n",
    "\n",
    "# value_for_weight, value_for_height, BSA 컬럼에 데이터가 모두 있는 데이터만 필터링\n",
    "df_filtered = df.dropna(subset=['value_for_weight', 'value_for_height', 'BSA'])\n",
    "\n",
    "# value_for_weight와 value_for_height를 사용하여 BSA 계산\n",
    "df_filtered['calculated_BSA'] = df_filtered.apply(lambda row: calculate_bsa(row['value_for_weight'], row['value_for_height']), axis=1)\n",
    "\n",
    "# BSA 값과 계산된 BSA 값의 오차를 계산\n",
    "df_filtered['BSA_difference'] = df_filtered['BSA'] - df_filtered['calculated_BSA']\n",
    "\n",
    "# 통계 요약 계산\n",
    "bsa_difference_stats = df_filtered['BSA_difference'].describe()\n",
    "\n",
    "bsa_difference_stats\n",
    "\n",
    "\n"
   ]
  },
  {
   "cell_type": "code",
   "execution_count": 10,
   "metadata": {},
   "outputs": [
    {
     "data": {
      "text/html": [
       "<div>\n",
       "<style scoped>\n",
       "    .dataframe tbody tr th:only-of-type {\n",
       "        vertical-align: middle;\n",
       "    }\n",
       "\n",
       "    .dataframe tbody tr th {\n",
       "        vertical-align: top;\n",
       "    }\n",
       "\n",
       "    .dataframe thead th {\n",
       "        text-align: right;\n",
       "    }\n",
       "</style>\n",
       "<table border=\"1\" class=\"dataframe\">\n",
       "  <thead>\n",
       "    <tr style=\"text-align: right;\">\n",
       "      <th></th>\n",
       "      <th>Column</th>\n",
       "      <th>Missing Count</th>\n",
       "      <th>Missing Percentage</th>\n",
       "    </tr>\n",
       "  </thead>\n",
       "  <tbody>\n",
       "    <tr>\n",
       "      <th>0</th>\n",
       "      <td>value_for_weight</td>\n",
       "      <td>579</td>\n",
       "      <td>32.841747</td>\n",
       "    </tr>\n",
       "    <tr>\n",
       "      <th>1</th>\n",
       "      <td>value_for_height</td>\n",
       "      <td>597</td>\n",
       "      <td>33.862734</td>\n",
       "    </tr>\n",
       "    <tr>\n",
       "      <th>2</th>\n",
       "      <td>BSA</td>\n",
       "      <td>255</td>\n",
       "      <td>14.463982</td>\n",
       "    </tr>\n",
       "  </tbody>\n",
       "</table>\n",
       "</div>"
      ],
      "text/plain": [
       "             Column  Missing Count  Missing Percentage\n",
       "0  value_for_weight            579           32.841747\n",
       "1  value_for_height            597           33.862734\n",
       "2               BSA            255           14.463982"
      ]
     },
     "execution_count": 10,
     "metadata": {},
     "output_type": "execute_result"
    }
   ],
   "source": [
    "# value_for_weight, value_for_height, BSA 컬럼의 결측치 개수와 비율 계산\n",
    "missing_stats = {\n",
    "    'Column': ['value_for_weight', 'value_for_height', 'BSA'],\n",
    "    'Missing Count': [\n",
    "        df['value_for_weight'].isna().sum(),\n",
    "        df['value_for_height'].isna().sum(),\n",
    "        df['BSA'].isna().sum()\n",
    "    ],\n",
    "    'Missing Percentage': [\n",
    "        df['value_for_weight'].isna().mean() * 100,\n",
    "        df['value_for_height'].isna().mean() * 100,\n",
    "        df['BSA'].isna().mean() * 100\n",
    "    ]\n",
    "}\n",
    "\n",
    "# 데이터를 데이터프레임으로 변환\n",
    "missing_df = pd.DataFrame(missing_stats)\n",
    "\n",
    "\n",
    "missing_df\n"
   ]
  }
 ],
 "metadata": {
  "kernelspec": {
   "display_name": "Python 3",
   "language": "python",
   "name": "python3"
  },
  "language_info": {
   "codemirror_mode": {
    "name": "ipython",
    "version": 3
   },
   "file_extension": ".py",
   "mimetype": "text/x-python",
   "name": "python",
   "nbconvert_exporter": "python",
   "pygments_lexer": "ipython3",
   "version": "3.12.5"
  }
 },
 "nbformat": 4,
 "nbformat_minor": 2
}
